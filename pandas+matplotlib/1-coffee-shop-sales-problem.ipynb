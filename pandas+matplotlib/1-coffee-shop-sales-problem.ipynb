{
 "cells": [
  {
   "cell_type": "markdown",
   "metadata": {},
   "source": [
    "## 0. Problem Setup \n",
    "\n",
    "Your friend has a coffee shop. The goal is to look at their sales data and be able to make some recomendations on what items they should stock going forward, or which days they're most profitable. \n",
    "\n",
    "\n",
    "They track sales data as follows:\n",
    "- sales in a './data/coffee-shop-sales.csv' \n",
    "- prices and unit costs in './data/coffee-shop-prices.csv'\n",
    "- each line in the sales spreadsheet represents the sale of a single item\n",
    "\n",
    "Load the data and explore what's there. Think about what recommendations you may make to your friend based on what you see in the data. "
   ]
  },
  {
   "cell_type": "code",
   "execution_count": 1,
   "metadata": {},
   "outputs": [],
   "source": [
    "# import pandas \n"
   ]
  },
  {
   "cell_type": "code",
   "execution_count": 2,
   "metadata": {},
   "outputs": [],
   "source": [
    "# read the files with the store data \n"
   ]
  },
  {
   "cell_type": "code",
   "execution_count": 3,
   "metadata": {},
   "outputs": [],
   "source": [
    "# take a look at the data in prices\n"
   ]
  },
  {
   "cell_type": "code",
   "execution_count": 4,
   "metadata": {},
   "outputs": [],
   "source": [
    "# take a look at the data in sales"
   ]
  },
  {
   "cell_type": "markdown",
   "metadata": {},
   "source": [
    "## 1. Sales Data by Item\n",
    "First, we'll take a look at what items sold, how much profit was made from each item. "
   ]
  },
  {
   "cell_type": "markdown",
   "metadata": {},
   "source": [
    "### 1.1. Transform the Raw Data  \n",
    "\n",
    "For this section, you'll focus on sales per item - what sells the most and generates the most profit. "
   ]
  },
  {
   "cell_type": "code",
   "execution_count": 5,
   "metadata": {},
   "outputs": [],
   "source": [
    "# create a grouped DF with a new column that tracks the total number of each item sold \n",
    "# hint: https://stackoverflow.com/questions/48770035/adding-a-count-column-to-the-result-of-a-groupby-in-pandas\n",
    "\n"
   ]
  },
  {
   "cell_type": "code",
   "execution_count": 6,
   "metadata": {},
   "outputs": [],
   "source": [
    "# create a copy of the prices DF\n",
    "\n",
    "\n",
    "\n",
    "# add a sales quantity column and fill it with values from the grouped DF above \n",
    "# hint: https://www.statology.org/left-join-pandas/\n"
   ]
  },
  {
   "cell_type": "code",
   "execution_count": 7,
   "metadata": {},
   "outputs": [],
   "source": [
    "# add calculated columns for (1)total sold for each item and (2) prifit made from each item \n",
    "\n"
   ]
  },
  {
   "cell_type": "markdown",
   "metadata": {},
   "source": [
    "### 1.2. Visualize the transformed data\n",
    "\n",
    "1. Create a figure with 1 horizontal bar chart showing quantity of sales for each item \n",
    "    - sort the item bars from least sold to most sold\n",
    "2. Create a histogram of number of items sold. \n",
    "\n",
    "_(NOTE: compare what the histogram tells you about item sales vs. what the bar plot tells you. Is one more helpful than the other?)_\n",
    "\n",
    "3. Create a figure with 2 graphs with a shared Y axis showing sales:\n",
    "    - sort the item bars from most profitable to least profitable\n",
    "    - vertical bar chart showing sales totals for each item \n",
    "    - vertical chart showing sales profits for each item\n",
    "\n",
    "    **(BONUS Question: what piece of information do you see in these last 2 graphs that weren't apparent in the first 2 graphs? Why would this information be important if you were running an actual business?)**\n",
    "\n",
    "Make it look nice: \n",
    "- Give each figure a descriptive title.\n",
    "- Give each graph a descriptive title.\n",
    "- Make sure that the only output shown is the plot, no additional text. \n",
    "- Make sure that the item labels aren't all garbled together. "
   ]
  },
  {
   "cell_type": "code",
   "execution_count": 8,
   "metadata": {},
   "outputs": [],
   "source": [
    "# import the necessary stuff to draw plots\n",
    "\n"
   ]
  },
  {
   "cell_type": "code",
   "execution_count": 9,
   "metadata": {},
   "outputs": [],
   "source": [
    "# Create a figure with 1 horizontal bar chart showing quantity of sales for each item \n",
    "# Sort the item bars from least sold to most sold\n",
    "# Make it look nice\n",
    "\n"
   ]
  },
  {
   "cell_type": "code",
   "execution_count": 10,
   "metadata": {},
   "outputs": [],
   "source": [
    "# draw the histogram with a title\n"
   ]
  },
  {
   "cell_type": "code",
   "execution_count": 11,
   "metadata": {},
   "outputs": [],
   "source": [
    "# Create a figure with 2 graphs with a shared Y axis showing sales:\n",
    "#    - sort the item bars from most profitable to least profitable\n",
    "#    - vertical bar chart showing sales totals for each item \n",
    "#    - vertical chart showing sales profits for each item\n",
    "# Make it look nice :)\n",
    "\n",
    "# hint: you may need this to make it look pretty:\n",
    "# https://stackoverflow.com/questions/63340844/how-do-you-rotate-x-axis-labels-in-matplotlib-subplots\n",
    "\n",
    "\n",
    "# set up the plot\n",
    "\n",
    "\n",
    "# sort values\n",
    "\n",
    "# draw the first graph\n",
    "\n",
    "# draw the 2nd graph"
   ]
  },
  {
   "cell_type": "markdown",
   "metadata": {},
   "source": [
    "## 2. Sales Data as a Time Series\n"
   ]
  },
  {
   "cell_type": "markdown",
   "metadata": {},
   "source": [
    "### 2.1. Transform the data. \n",
    "\n",
    "For this section, you will want to group your data by date and then calculate sales and profits per item per day. \n",
    "\n",
    "**Pro Tip:** Print out the dataframes after transforming them to ensure that you got the desired results from every operation."
   ]
  },
  {
   "cell_type": "code",
   "execution_count": 12,
   "metadata": {},
   "outputs": [],
   "source": [
    "# in the sales PD, transform the Date column to a datetime type\n",
    "# create a grouped DF with a new column that tracks the total number of each item sold PER DAY\n",
    "# sort your time series and save to a new sorted DF\n",
    "# hint: you'll need to keep the date as a column in the resulting DF. example here: https://stackoverflow.com/questions/31569549/how-to-groupby-a-dataframe-in-pandas-and-keep-columns\n",
    "\n"
   ]
  },
  {
   "cell_type": "code",
   "execution_count": 13,
   "metadata": {},
   "outputs": [],
   "source": [
    "# add a column with the week day for each of the sales dates \n",
    "# This isn't covered in Udemy until later; see documentation here: https://pandas.pydata.org/pandas-docs/stable/reference/api/pandas.Series.dt.dayofweek.html \n"
   ]
  },
  {
   "cell_type": "code",
   "execution_count": 14,
   "metadata": {},
   "outputs": [],
   "source": [
    "# Merge the new time series with the price information\n",
    "\n"
   ]
  },
  {
   "cell_type": "code",
   "execution_count": 15,
   "metadata": {},
   "outputs": [],
   "source": [
    "# BONUS POINTS: you need to convert the currency to a float\n",
    "# make a re-usable function to do this and lambdas to call your function to convert both currency columns\n",
    "# hint: lambda examples here https://www.geeksforgeeks.org/applying-lambda-functions-to-pandas-dataframe/\n",
    "\n"
   ]
  },
  {
   "cell_type": "code",
   "execution_count": 16,
   "metadata": {},
   "outputs": [],
   "source": [
    "# Calculate the total sales and total profits for each day \n",
    "# by adding the cost and price columns from Prices and then creating new calculated columns.\n"
   ]
  },
  {
   "cell_type": "markdown",
   "metadata": {},
   "source": [
    "### 2. Visualize the transformed data\n",
    "1. Create a figure with 2 time series:\n",
    "    - Day's sales total\n",
    "    - Day's profit total\n",
    "\n",
    "2. Create a chart that shows the average(mean) profit and net sales for each day of the week. \n",
    "\n",
    "Make it look nice: \n",
    "- Give each figure a descriptive title.\n",
    "- Give each graph a descriptive title.\n",
    "- Make sure that the only output shown is the plot, no additional text. \n",
    "- Make sure that the item labels aren't all garbled together. "
   ]
  },
  {
   "cell_type": "code",
   "execution_count": 17,
   "metadata": {},
   "outputs": [],
   "source": [
    "# Create a figure with 2 time series:\n",
    "#     - Day's sales total\n",
    "#     - Day's profit total\n",
    "\n",
    "# set up the plor area and title\n",
    "\n",
    "\n",
    "# set graph title and y label. Dates should be on the x axis\n",
    "\n",
    "\n",
    "# add bars for sales\n",
    "\n",
    "# add bars for profits\n",
    "\n",
    "#add a legend\n",
    "\n",
    "\n",
    "\n",
    "# set graph title and y label. Dates should be on the x axis\n",
    "\n",
    "# add bars for sales\n",
    "\n",
    "# add a legend\n",
    "\n",
    "\n",
    "#add plt.tight_layout;\n",
    "\n"
   ]
  },
  {
   "cell_type": "markdown",
   "metadata": {},
   "source": [
    "Look at the last 2 charts. Are there days when profits per item were better than others? What would you recommend to the business based on what you see here?"
   ]
  },
  {
   "cell_type": "code",
   "execution_count": 18,
   "metadata": {},
   "outputs": [],
   "source": [
    "# Create a chart that shows the average(mean) profit and net sales for each day of the week. \n",
    "\n",
    "# first you need to calculate the week day averages. \n",
    "# hint: https://www.statology.org/pandas-mean-by-group/\n",
    "\n"
   ]
  },
  {
   "cell_type": "code",
   "execution_count": 19,
   "metadata": {},
   "outputs": [],
   "source": [
    "\n",
    "# Plot the averages as lines on a single plot\n",
    "# Replace week day numbers with names: 0 = Sunday, 1=Monday, etc. \n",
    "\n",
    "# set up the plor area and title\n",
    "\n",
    "\n",
    "# set graph title and y label. Week days should be on the x axis\n",
    "\n",
    "# add line for mean sales\n",
    "\n",
    "# add line for mean profits\n",
    "\n",
    "\n",
    "#add a legend\n",
    "\n",
    "\n",
    "# replace numbers with day names on the X axis\n",
    "# you may get a warning... ignore it"
   ]
  },
  {
   "cell_type": "markdown",
   "metadata": {},
   "source": [
    "# Congratulations! You have reached the end of this exercise!"
   ]
  }
 ],
 "metadata": {
  "kernelspec": {
   "display_name": "Python 3.9.12",
   "language": "python",
   "name": "python3"
  },
  "language_info": {
   "codemirror_mode": {
    "name": "ipython",
    "version": 3
   },
   "file_extension": ".py",
   "mimetype": "text/x-python",
   "name": "python",
   "nbconvert_exporter": "python",
   "pygments_lexer": "ipython3",
   "version": "3.9.12"
  },
  "orig_nbformat": 4,
  "vscode": {
   "interpreter": {
    "hash": "82356630ee31c322de3c8105d4886e8cf5c8f59226fa62936576a27ede4a0c8e"
   }
  }
 },
 "nbformat": 4,
 "nbformat_minor": 2
}
