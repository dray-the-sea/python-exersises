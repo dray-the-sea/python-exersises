{
 "cells": [
  {
   "cell_type": "markdown",
   "metadata": {},
   "source": [
    "### Problem Setup \n",
    "You have been going to the gym for a while and have been tracking the exercises you do in a csv file. Are you making progress? \n",
    "\n",
    "Before determining whether your workouts are working, you need to make sure that your data is consistent and clean.. Let's do that\n",
    "\n",
    "**Some notes on the file:**\n",
    "- the file with your results is at ./data/workout-log.csv\n",
    "- for body weight exercises, you note down 1 for weight\n",
    "- you may have exercises listed, but no reps. This means that you didn't finish all the sets\n"
   ]
  },
  {
   "cell_type": "code",
   "execution_count": 10,
   "metadata": {},
   "outputs": [],
   "source": [
    "# import pandas \n"
   ]
  },
  {
   "cell_type": "code",
   "execution_count": 11,
   "metadata": {},
   "outputs": [],
   "source": [
    "# read in your data file \n"
   ]
  },
  {
   "cell_type": "code",
   "execution_count": 12,
   "metadata": {},
   "outputs": [],
   "source": [
    "# look at the top few rows to make sure that it loaded ok\n"
   ]
  },
  {
   "cell_type": "code",
   "execution_count": 13,
   "metadata": {},
   "outputs": [],
   "source": [
    "# explore what exercises you did for each body area... \n",
    "# group by body area and exercise, look at the mean of each group\n"
   ]
  },
  {
   "cell_type": "code",
   "execution_count": 14,
   "metadata": {},
   "outputs": [],
   "source": [
    "# get a count of empty values in all columns\n"
   ]
  },
  {
   "cell_type": "markdown",
   "metadata": {},
   "source": [
    "What you should be able to notice so far: \n",
    "1. push-ups are listed as 2 different things: 'push-up' and 'push-ups'\n",
    "2. squats are listed in both 'legs' and 'quads' \n",
    "3. reps are missing for 3 exercises \n",
    "4. WorkoutName is missing in 45 instances\n",
    "5. There's a weird \"Unnamed: 7\" column that seems to be just junk\n",
    "\n",
    "**Let's fix this...**"
   ]
  },
  {
   "cell_type": "code",
   "execution_count": 15,
   "metadata": {},
   "outputs": [],
   "source": [
    "# re-name 'push-ups' to 'push-up'\n",
    "\n",
    "\n",
    "#try to select rows with \"push-ups\" in Exercise - you should not get any such rows\n"
   ]
  },
  {
   "cell_type": "code",
   "execution_count": 16,
   "metadata": {},
   "outputs": [],
   "source": [
    "# set all squats to be 'legs'\n",
    "# hint: you may need to do an internet search on how to change the value of one column based on the value of another column\n",
    "# hint: this documentation may be helpful: https://www.statology.org/pandas-loc-multiple-conditions/\n",
    "\n",
    "\n",
    "# try to select rows with \"triceps\" in BodyArea and \"squat\" in Exercise - you should not get any such rows\n"
   ]
  },
  {
   "cell_type": "code",
   "execution_count": 17,
   "metadata": {},
   "outputs": [],
   "source": [
    "# remove the 3 lines with no reps.\n",
    "\n",
    "\n",
    "# confirm that there are no lines with nan in \"Reps\" column\n"
   ]
  },
  {
   "cell_type": "code",
   "execution_count": 18,
   "metadata": {},
   "outputs": [],
   "source": [
    "# drop the WorkoutName and Unnamed: 7 columns. \n",
    "# it doesn't impact the effectiveness of your workout in any way\n",
    "\n",
    "\n",
    "# confirm that the columns are gone\n"
   ]
  },
  {
   "cell_type": "markdown",
   "metadata": {},
   "source": [
    "### Congratulations! You have cleaned up your data log :)"
   ]
  },
  {
   "cell_type": "markdown",
   "metadata": {},
   "source": []
  }
 ],
 "metadata": {
  "kernelspec": {
   "display_name": "Python 3.9.12",
   "language": "python",
   "name": "python3"
  },
  "language_info": {
   "codemirror_mode": {
    "name": "ipython",
    "version": 3
   },
   "file_extension": ".py",
   "mimetype": "text/x-python",
   "name": "python",
   "nbconvert_exporter": "python",
   "pygments_lexer": "ipython3",
   "version": "3.9.12"
  },
  "orig_nbformat": 4,
  "vscode": {
   "interpreter": {
    "hash": "82356630ee31c322de3c8105d4886e8cf5c8f59226fa62936576a27ede4a0c8e"
   }
  }
 },
 "nbformat": 4,
 "nbformat_minor": 2
}
