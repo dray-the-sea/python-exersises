{
 "cells": [
  {
   "cell_type": "markdown",
   "metadata": {},
   "source": [
    "Do the following data exploration and modifications of the Kaggle Titanic dataset: \n",
    "1. download `train.csv` into a folder called `data` in your project and import it into a pandas dataframe\n",
    "2. show the last 5 rows of the dataframe\n",
    "3. list the number of items that have missing data in each column \n",
    "4. use the pandas function that shows you, amonth other things, the max, min, and count of values in each column\n",
    "5. create a column called 'Family' and make its values equal to the sum of 'Sibsp' and 'Parch' columns\n",
    "6. fill missing values in the 'Embarked' column with 'X'\n",
    "7. remove the 'PassengerId' column from the dataframe\n"
   ]
  },
  {
   "cell_type": "code",
   "execution_count": 1,
   "metadata": {},
   "outputs": [],
   "source": [
    "# import pandas and import the CSV"
   ]
  },
  {
   "cell_type": "code",
   "execution_count": 2,
   "metadata": {},
   "outputs": [],
   "source": [
    "#show the last 5 rows"
   ]
  },
  {
   "cell_type": "code",
   "execution_count": 3,
   "metadata": {},
   "outputs": [],
   "source": [
    "# show how many empty values there are in each column"
   ]
  },
  {
   "cell_type": "code",
   "execution_count": 4,
   "metadata": {},
   "outputs": [],
   "source": [
    "# show min, max, mean, etc. of the dataframe"
   ]
  },
  {
   "cell_type": "code",
   "execution_count": 5,
   "metadata": {},
   "outputs": [],
   "source": [
    "# create the Family column that's a sum of Sibsp and Parch"
   ]
  },
  {
   "cell_type": "code",
   "execution_count": 6,
   "metadata": {},
   "outputs": [],
   "source": [
    "# fill in missing Embarked with X"
   ]
  },
  {
   "cell_type": "code",
   "execution_count": 7,
   "metadata": {},
   "outputs": [],
   "source": [
    "# get rid of the PassengerId column"
   ]
  },
  {
   "cell_type": "markdown",
   "metadata": {},
   "source": [
    "Confirm that operations in steps 6-8 were indeed successful. \n",
    "1. confirm that 'Embarked' doesn't have any blank values\n",
    "2. display the rows in the dataframe that have 'X' as the value\n",
    "3. show top 10 rows of the data frame and conrim that all the expected columns are present"
   ]
  },
  {
   "cell_type": "code",
   "execution_count": 8,
   "metadata": {},
   "outputs": [],
   "source": [
    "# Confirm that Embarked no longer has blank values"
   ]
  },
  {
   "cell_type": "code",
   "execution_count": 9,
   "metadata": {},
   "outputs": [],
   "source": [
    "# show the rows that have 'X' as the value in Embarked"
   ]
  },
  {
   "cell_type": "code",
   "execution_count": 10,
   "metadata": {},
   "outputs": [],
   "source": [
    "# dataframe should now have a new colum 'Family', I can check the math on that one\n",
    "# dataframe should no longer have a 'PassengerId' column\n"
   ]
  }
 ],
 "metadata": {
  "kernelspec": {
   "display_name": "Python 3.9.12",
   "language": "python",
   "name": "python3"
  },
  "language_info": {
   "codemirror_mode": {
    "name": "ipython",
    "version": 3
   },
   "file_extension": ".py",
   "mimetype": "text/x-python",
   "name": "python",
   "nbconvert_exporter": "python",
   "pygments_lexer": "ipython3",
   "version": "3.9.12"
  },
  "orig_nbformat": 4,
  "vscode": {
   "interpreter": {
    "hash": "82356630ee31c322de3c8105d4886e8cf5c8f59226fa62936576a27ede4a0c8e"
   }
  }
 },
 "nbformat": 4,
 "nbformat_minor": 2
}
